{
  "nbformat": 4,
  "nbformat_minor": 0,
  "metadata": {
    "colab": {
      "name": "Webscraping - CNBC.ipynb",
      "provenance": [],
      "collapsed_sections": []
    },
    "kernelspec": {
      "name": "python3",
      "display_name": "Python 3"
    },
    "language_info": {
      "name": "python"
    }
  },
  "cells": [
    {
      "cell_type": "markdown",
      "source": [
        "# **SINTAKS WEBSCRAPING DATA BERITA [CNBC](https://www.cnbcindonesia.com/)** \n"
      ],
      "metadata": {
        "id": "2I5wZQkZdE7x"
      }
    },
    {
      "cell_type": "markdown",
      "source": [
        "# WEBCRAWLING WEBSITE BERITA CNBC\n",
        "Pada tahap ini kita akan melakukan crawling website CNBC secara manual. Kita akan membuat list berisi beberapa URL atau alamat berita pada website berita CNBC. Tahapan yang kita lakukan:\n",
        "1.   Mengakses website CNBC\n",
        "2.   Melakukan pencarian berita berdasarkan kata kunci \"Minyak Goreng\"\n",
        "3.   Menyimpan beberapa URL berita terkait kata kunci \"Minyak Goreng\"\n",
        "4.   Membuat list pada Python berisi URL berita CNBC\n",
        "\n"
      ],
      "metadata": {
        "id": "6REoAHeDd31b"
      }
    },
    {
      "cell_type": "code",
      "source": [
        "# Membuat List berisi URL berita \"Minyak Goreng\" CNBC\n",
        "\n",
        "list_url = ['https://www.cnbcindonesia.com/news/20220705160145-4-353138/saat-jokowi-dikeluhkan-pedagang-soal-harga-cabai-menggila',\n",
        "            'https://www.cnbcindonesia.com/news/20220705141830-4-353106/zulhas-bilang-harga-pangan-menggila-petani-untung-beneran',\n",
        "            'https://www.cnbcindonesia.com/news/20220705132446-4-353088/heboh-petani-ri-jual-sawit-ke-malaysia-ini-biang-keroknya',\n",
        "            'https://www.cnbcindonesia.com/news/20220705112318-4-353041/jadi-syarat-ekspor-minyak-sawit-besok-zulhas-rilis-minyakita',\n",
        "            'https://www.cnbcindonesia.com/news/20220705093458-4-353009/begini-klaim-zulhas-soal-harga-minyak-goreng-turun']\n",
        "\n",
        "list_url"
      ],
      "metadata": {
        "colab": {
          "base_uri": "https://localhost:8080/"
        },
        "id": "Mp9gRNXniR2H",
        "outputId": "c05b594d-8419-4c02-e342-8b33eac50043"
      },
      "execution_count": 1,
      "outputs": [
        {
          "output_type": "execute_result",
          "data": {
            "text/plain": [
              "['https://www.cnbcindonesia.com/news/20220705160145-4-353138/saat-jokowi-dikeluhkan-pedagang-soal-harga-cabai-menggila',\n",
              " 'https://www.cnbcindonesia.com/news/20220705141830-4-353106/zulhas-bilang-harga-pangan-menggila-petani-untung-beneran',\n",
              " 'https://www.cnbcindonesia.com/news/20220705132446-4-353088/heboh-petani-ri-jual-sawit-ke-malaysia-ini-biang-keroknya',\n",
              " 'https://www.cnbcindonesia.com/news/20220705112318-4-353041/jadi-syarat-ekspor-minyak-sawit-besok-zulhas-rilis-minyakita',\n",
              " 'https://www.cnbcindonesia.com/news/20220705093458-4-353009/begini-klaim-zulhas-soal-harga-minyak-goreng-turun']"
            ]
          },
          "metadata": {},
          "execution_count": 1
        }
      ]
    },
    {
      "cell_type": "markdown",
      "source": [
        "## REQUEST KE SALAH SATU HALAMAN BERITA DI WEBSITE CNBC ##\n",
        "Pada tahap ini kita akan melakukan request ke salah satu halaman berita di website CNBC yang telah kita crawling sebelumnya menggunakan Library Request.\n",
        "\n"
      ],
      "metadata": {
        "id": "vJmPO744djbG"
      }
    },
    {
      "cell_type": "code",
      "execution_count": 14,
      "metadata": {
        "colab": {
          "base_uri": "https://localhost:8080/"
        },
        "id": "AYgWpiNYckrZ",
        "outputId": "9a9c5378-d9dd-4154-cee2-48c56ef33aa5"
      },
      "outputs": [
        {
          "output_type": "stream",
          "name": "stdout",
          "text": [
            "Status request: <Response [200]>\n",
            "<class 'str'>\n"
          ]
        }
      ],
      "source": [
        "# Memanggil Library Request\n",
        "import requests\n",
        "\n",
        "# Melakukan request ke URL berita pertama pada list URL berita yang telah dibuat\n",
        "r = requests.get(list_url[0])\n",
        "print(f'Status request: {r}')\n",
        "\n",
        "# Mengambil HTML dari halaman website yang telah direquest\n",
        "html_halaman = r.text\n",
        "# print(html_halaman)\n",
        "print(type(html_halaman))"
      ]
    },
    {
      "cell_type": "markdown",
      "source": [
        "## MENGAMBIL INFORMASI PADA HALAMAN YANG TELAH DIREQUEST ##\n",
        "Pada tahap ini kita akan mengambil informasi-informasi yang terdapat pada halaman yang telah direquest melalui tag HTML-nya menggunakan Library Beautiful Soup. Untuk melihat fungsi-fungsi pada Library Beautiful Soup silakan akses [halaman berikut](https://www.crummy.com/software/BeautifulSoup/bs4/doc/). \n",
        "\n"
      ],
      "metadata": {
        "id": "u83OgXMIj_ra"
      }
    },
    {
      "cell_type": "code",
      "source": [
        "# Memanggil Library BeautifulSoup\n",
        "from bs4 import BeautifulSoup\n",
        "\n",
        "# Memanggil variabel berisi struktur HTML dari halaman CNBC yang telah direquest sebelumnya.\n",
        "html_bs4 = BeautifulSoup(html_halaman)\n",
        "print(type(html_bs4))"
      ],
      "metadata": {
        "colab": {
          "base_uri": "https://localhost:8080/"
        },
        "id": "l9gRqHFZdEhZ",
        "outputId": "4b5fad83-7de6-49b4-b7ba-f84cc5dfcc36"
      },
      "execution_count": 15,
      "outputs": [
        {
          "output_type": "stream",
          "name": "stdout",
          "text": [
            "<class 'bs4.BeautifulSoup'>\n"
          ]
        }
      ]
    },
    {
      "cell_type": "markdown",
      "source": [
        "Mengambil informasi judul berita dari halaman yang telah direquest."
      ],
      "metadata": {
        "id": "mY9YuukxldbC"
      }
    },
    {
      "cell_type": "code",
      "source": [
        "# Mengambil informasi judul berita dari HTML pada tag H1 -> cari di struktur HTML\n",
        "judul = html_bs4.find('h1').text\n",
        "\n",
        "print(judul)"
      ],
      "metadata": {
        "colab": {
          "base_uri": "https://localhost:8080/"
        },
        "id": "oj3pcVUUllj2",
        "outputId": "4230abc6-f984-4e2f-a84c-8e5a9834440e"
      },
      "execution_count": 44,
      "outputs": [
        {
          "output_type": "stream",
          "name": "stdout",
          "text": [
            "Saat Jokowi Dikeluhkan Pedagang Soal Harga Cabai 'Menggila'\n"
          ]
        }
      ]
    },
    {
      "cell_type": "markdown",
      "source": [
        "Mengambil informasi tanggal berita dari halaman yang telah direquest."
      ],
      "metadata": {
        "id": "KCKKIgzzmlh4"
      }
    },
    {
      "cell_type": "code",
      "source": [
        "# Mengambil informasi tanggal berita dari HTML pada tag div dengan class=date -> cari di struktur HTML\n",
        "tanggal = html_bs4.find('div', class_='date').text\n",
        "\n",
        "print(tanggal)"
      ],
      "metadata": {
        "colab": {
          "base_uri": "https://localhost:8080/"
        },
        "id": "ldNOl-Wymkuy",
        "outputId": "42776345-8742-4e37-8c8d-79cba2b3e894"
      },
      "execution_count": 45,
      "outputs": [
        {
          "output_type": "stream",
          "name": "stdout",
          "text": [
            "05 July 2022 16:45\n"
          ]
        }
      ]
    },
    {
      "cell_type": "markdown",
      "source": [
        "Mengambil informasi penulis berita dari halaman yang telah direquest."
      ],
      "metadata": {
        "id": "01Oh9zWAno6x"
      }
    },
    {
      "cell_type": "code",
      "source": [
        "# Mengambil informasi tanggal berita dari HTML pada tag div dengan class=author -> cari di struktur HTML\n",
        "penulis = html_bs4.find('div', class_='author').text\n",
        "\n",
        "print(penulis)"
      ],
      "metadata": {
        "colab": {
          "base_uri": "https://localhost:8080/"
        },
        "id": "49q6A1ZznpD3",
        "outputId": "14f412b4-72a2-4822-fb3a-af733decb77c"
      },
      "execution_count": 46,
      "outputs": [
        {
          "output_type": "stream",
          "name": "stdout",
          "text": [
            "News - Chandra Gian Asmara, CNBC Indonesia\n"
          ]
        }
      ]
    },
    {
      "cell_type": "markdown",
      "source": [
        "Mengambil informasi isi berita dari halaman yang telah direquest."
      ],
      "metadata": {
        "id": "pQOrrno4n9bD"
      }
    },
    {
      "cell_type": "code",
      "source": [
        "# Mengambil informasi tanggal berita dari HTML pada tag div dengan class=detail_text -> cari di struktur HTML\n",
        "isi = html_bs4.find('div', class_='detail_text').text\n",
        "\n",
        "# print(isi)"
      ],
      "metadata": {
        "id": "5_fpshYVn98F"
      },
      "execution_count": 53,
      "outputs": []
    },
    {
      "cell_type": "code",
      "source": [
        "# Mengambil informasi tanggal berita dari HTML pada tag div dengan class=detail_text -> cari di struktur HTML\n",
        "isi = html_bs4.find('div', class_='detail_text')\n",
        "\n",
        "# Jika kita hanya mengambil tag 'detail_text' terdapat kalimat-kalimat non berita yang kita dapatkan, maka kita harus memecah isi berita menjadi per paragraf\n",
        "list_paragraf = isi.find_all('p')\n",
        "\n",
        "# Print per paragraf\n",
        "for paragraf in list_paragraf:\n",
        "  print(paragraf.text)"
      ],
      "metadata": {
        "colab": {
          "base_uri": "https://localhost:8080/"
        },
        "id": "avH3c17ysFBg",
        "outputId": "d09a34ca-677e-4c6c-b505-1ecd671f1572"
      },
      "execution_count": 50,
      "outputs": [
        {
          "output_type": "stream",
          "name": "stdout",
          "text": [
            "Jakarta, CNBC Indonesia - Presiden Joko Widodo (Jokowi) dan Ibu Negara Iriana Jokowi mengunjungi Pasar Peterongan, Kota Semarang, Provinsi Jawa Tengah, pada hari Selasa (5/7/2022).\n",
            "\n",
            "Dalam kesempatan tersebut, Jokowi dan Iriana meninjau harga dan ketersediaan sejumlah bahan pangan pokok, seperti cabai merah, minyak goreng, hingga beras. \n",
            "\r\n",
            "ADVERTISEMENT\r\n",
            "\n",
            "\r\n",
            "SCROLL TO RESUME CONTENT\r\n",
            "\n",
            "\n",
            "Amini, seorang penjual sembako yang dihampiri Jokowi mengatakan bahwa harga kebutuhan pokok sudah kembali normal. Namun, Amini juga mengeluhkan harga cabai yang kelewat mahal dibandingkan biasanya.\n",
            "\n",
            "\n",
            "\"Sudah satu minggu, ini beras Rp10 ribu (per kilogram), yang mahal cabai Rp80 ribu (per kilogram), cabai rawit merah,\" kata Amini kepada Jokowi, seperti dikutip keterangan resmi, Selasa (5/7/2022).\n",
            "\n",
            "\n",
            "Jokowi mengatakan kepada Amini bahwa kondisi harga kebutuhan pokok saat ini sudah membaik. \"Sudah bagus, sudah baik, semoga harganya turun lagi, ini sudah stabil,\" ucapnya.\n",
            "\n",
            "Dalam kesempatan tersebut, Jokowi dan Iriana juga memberikan sejumlah bantuan dan berinteraksi dengan beberapa masyarakat penerima manfaat serta pedagang. \n",
            "\n",
            "\n",
            "Salah satu pedagang yang juga kaum disabilitas bernama Joko menyampaikan apresiasi atas bantuan yang diberikan dan berharap bantuan tersebut dapat meningkatkan usahanya di bidang makanan.\n",
            "\n",
            "\n",
            "\"Sekarang ini saya sedang usaha buat risol mayo, salad buah, kacang telor, dan juga brambang goreng. Harapannya dengan bantuan ini usaha saya bisa makin berkembang dan maju dan saya ingin menunjukkan bahwa kaum disabilitas bisa maju,\" ujar Joko.\n",
            "\n",
            "Jokowi juga bertemu dengan sejumlah masyarakat penerima manfaat Program Keluarga Harapan. Dalam kesempatan tersebut, Jokowi berpesan agar bantuan senilai Rp1,2 juta yang diberikan dapat digunakan untuk tambahan modal kerja.\n",
            "\n",
            "\"Tidak boleh dibelikan handphone, jangan dibelikan handphone apalagi pulsa. Ini dipakai untuk tambahan modal kerja, kalau yang Rp300 ribu boleh dipakai untuk beli minyak goreng, sembako, silakan,\" katanya.\n",
            "\n",
            "\n"
          ]
        }
      ]
    },
    {
      "cell_type": "code",
      "source": [
        "# Mengambil text dari setiap paragraf\n",
        "list_paragraf_clean = [paragraf.text for paragraf in list_paragraf]\n",
        "\n",
        "# Menggabungkan list menjadi satu\n",
        "isi_clean = ' '.join(list_paragraf_clean)\n",
        "\n",
        "# Membersihkan isi berita dari elemen tidak penting\n",
        "isi_clean = isi_clean.replace('\\r\\n', '')\n",
        "isi_clean = isi_clean.replace('ADVERTISEMENT SCROLL TO RESUME CONTENT', '')\n",
        "\n",
        "print(isi_clean)"
      ],
      "metadata": {
        "colab": {
          "base_uri": "https://localhost:8080/"
        },
        "id": "x5YuHkrdsRnl",
        "outputId": "117cd4d9-b581-4ba8-e5b1-efbce63a78f7"
      },
      "execution_count": 52,
      "outputs": [
        {
          "output_type": "stream",
          "name": "stdout",
          "text": [
            "Jakarta, CNBC Indonesia - Presiden Joko Widodo (Jokowi) dan Ibu Negara Iriana Jokowi mengunjungi Pasar Peterongan, Kota Semarang, Provinsi Jawa Tengah, pada hari Selasa (5/7/2022).  Dalam kesempatan tersebut, Jokowi dan Iriana meninjau harga dan ketersediaan sejumlah bahan pangan pokok, seperti cabai merah, minyak goreng, hingga beras.    Amini, seorang penjual sembako yang dihampiri Jokowi mengatakan bahwa harga kebutuhan pokok sudah kembali normal. Namun, Amini juga mengeluhkan harga cabai yang kelewat mahal dibandingkan biasanya.   \"Sudah satu minggu, ini beras Rp10 ribu (per kilogram), yang mahal cabai Rp80 ribu (per kilogram), cabai rawit merah,\" kata Amini kepada Jokowi, seperti dikutip keterangan resmi, Selasa (5/7/2022).   Jokowi mengatakan kepada Amini bahwa kondisi harga kebutuhan pokok saat ini sudah membaik. \"Sudah bagus, sudah baik, semoga harganya turun lagi, ini sudah stabil,\" ucapnya.  Dalam kesempatan tersebut, Jokowi dan Iriana juga memberikan sejumlah bantuan dan berinteraksi dengan beberapa masyarakat penerima manfaat serta pedagang.    Salah satu pedagang yang juga kaum disabilitas bernama Joko menyampaikan apresiasi atas bantuan yang diberikan dan berharap bantuan tersebut dapat meningkatkan usahanya di bidang makanan.   \"Sekarang ini saya sedang usaha buat risol mayo, salad buah, kacang telor, dan juga brambang goreng. Harapannya dengan bantuan ini usaha saya bisa makin berkembang dan maju dan saya ingin menunjukkan bahwa kaum disabilitas bisa maju,\" ujar Joko.  Jokowi juga bertemu dengan sejumlah masyarakat penerima manfaat Program Keluarga Harapan. Dalam kesempatan tersebut, Jokowi berpesan agar bantuan senilai Rp1,2 juta yang diberikan dapat digunakan untuk tambahan modal kerja.  \"Tidak boleh dibelikan handphone, jangan dibelikan handphone apalagi pulsa. Ini dipakai untuk tambahan modal kerja, kalau yang Rp300 ribu boleh dipakai untuk beli minyak goreng, sembako, silakan,\" katanya.  \n"
          ]
        }
      ]
    },
    {
      "cell_type": "markdown",
      "source": [
        "## MEMBUAT DATAFRAME DARI INFORMASI-INFORMASI YANG TELAH DIKUMPULKAN ##\n",
        "Pada tahap ini kita akan membuat dataframe atau tabel berisi data dari informasi-informasi yang telah kita kumpulkan dengan menggunakan Library Pandas. \n",
        "\n"
      ],
      "metadata": {
        "id": "H5E9ZxddsvE0"
      }
    },
    {
      "cell_type": "code",
      "source": [
        "# Memanggil Library BeautifulSoup\n",
        "import pandas as pd\n",
        "\n",
        "# Menentukan nama kolom\n",
        "nama_kolom = ['url', 'judul', 'tanggal', 'penulis', 'isi']\n",
        "\n",
        "# Membuat list berisi data yang akan ditabulasikan\n",
        "isi_tabel = [[list_url[0], judul, tanggal, penulis, isi_clean]]\n",
        "\n",
        "# membuat dataframe\n",
        "df_berita = pd.DataFrame(isi_tabel, columns = nama_kolom)\n",
        "\n",
        "df_berita"
      ],
      "metadata": {
        "colab": {
          "base_uri": "https://localhost:8080/",
          "height": 142
        },
        "id": "rTI3bmHUtzB7",
        "outputId": "ddac4378-3343-4049-8331-f6544faa7ff4"
      },
      "execution_count": 57,
      "outputs": [
        {
          "output_type": "execute_result",
          "data": {
            "text/plain": [
              "                                                 url  \\\n",
              "0  https://www.cnbcindonesia.com/news/20220705160...   \n",
              "\n",
              "                                               judul             tanggal  \\\n",
              "0  Saat Jokowi Dikeluhkan Pedagang Soal Harga Cab...  05 July 2022 16:45   \n",
              "\n",
              "                                      penulis  \\\n",
              "0  News - Chandra Gian Asmara, CNBC Indonesia   \n",
              "\n",
              "                                                 isi  \n",
              "0  Jakarta, CNBC Indonesia - Presiden Joko Widodo...  "
            ],
            "text/html": [
              "\n",
              "  <div id=\"df-41bdb715-eadd-441e-bd6d-f5b5265e7cb3\">\n",
              "    <div class=\"colab-df-container\">\n",
              "      <div>\n",
              "<style scoped>\n",
              "    .dataframe tbody tr th:only-of-type {\n",
              "        vertical-align: middle;\n",
              "    }\n",
              "\n",
              "    .dataframe tbody tr th {\n",
              "        vertical-align: top;\n",
              "    }\n",
              "\n",
              "    .dataframe thead th {\n",
              "        text-align: right;\n",
              "    }\n",
              "</style>\n",
              "<table border=\"1\" class=\"dataframe\">\n",
              "  <thead>\n",
              "    <tr style=\"text-align: right;\">\n",
              "      <th></th>\n",
              "      <th>url</th>\n",
              "      <th>judul</th>\n",
              "      <th>tanggal</th>\n",
              "      <th>penulis</th>\n",
              "      <th>isi</th>\n",
              "    </tr>\n",
              "  </thead>\n",
              "  <tbody>\n",
              "    <tr>\n",
              "      <th>0</th>\n",
              "      <td>https://www.cnbcindonesia.com/news/20220705160...</td>\n",
              "      <td>Saat Jokowi Dikeluhkan Pedagang Soal Harga Cab...</td>\n",
              "      <td>05 July 2022 16:45</td>\n",
              "      <td>News - Chandra Gian Asmara, CNBC Indonesia</td>\n",
              "      <td>Jakarta, CNBC Indonesia - Presiden Joko Widodo...</td>\n",
              "    </tr>\n",
              "  </tbody>\n",
              "</table>\n",
              "</div>\n",
              "      <button class=\"colab-df-convert\" onclick=\"convertToInteractive('df-41bdb715-eadd-441e-bd6d-f5b5265e7cb3')\"\n",
              "              title=\"Convert this dataframe to an interactive table.\"\n",
              "              style=\"display:none;\">\n",
              "        \n",
              "  <svg xmlns=\"http://www.w3.org/2000/svg\" height=\"24px\"viewBox=\"0 0 24 24\"\n",
              "       width=\"24px\">\n",
              "    <path d=\"M0 0h24v24H0V0z\" fill=\"none\"/>\n",
              "    <path d=\"M18.56 5.44l.94 2.06.94-2.06 2.06-.94-2.06-.94-.94-2.06-.94 2.06-2.06.94zm-11 1L8.5 8.5l.94-2.06 2.06-.94-2.06-.94L8.5 2.5l-.94 2.06-2.06.94zm10 10l.94 2.06.94-2.06 2.06-.94-2.06-.94-.94-2.06-.94 2.06-2.06.94z\"/><path d=\"M17.41 7.96l-1.37-1.37c-.4-.4-.92-.59-1.43-.59-.52 0-1.04.2-1.43.59L10.3 9.45l-7.72 7.72c-.78.78-.78 2.05 0 2.83L4 21.41c.39.39.9.59 1.41.59.51 0 1.02-.2 1.41-.59l7.78-7.78 2.81-2.81c.8-.78.8-2.07 0-2.86zM5.41 20L4 18.59l7.72-7.72 1.47 1.35L5.41 20z\"/>\n",
              "  </svg>\n",
              "      </button>\n",
              "      \n",
              "  <style>\n",
              "    .colab-df-container {\n",
              "      display:flex;\n",
              "      flex-wrap:wrap;\n",
              "      gap: 12px;\n",
              "    }\n",
              "\n",
              "    .colab-df-convert {\n",
              "      background-color: #E8F0FE;\n",
              "      border: none;\n",
              "      border-radius: 50%;\n",
              "      cursor: pointer;\n",
              "      display: none;\n",
              "      fill: #1967D2;\n",
              "      height: 32px;\n",
              "      padding: 0 0 0 0;\n",
              "      width: 32px;\n",
              "    }\n",
              "\n",
              "    .colab-df-convert:hover {\n",
              "      background-color: #E2EBFA;\n",
              "      box-shadow: 0px 1px 2px rgba(60, 64, 67, 0.3), 0px 1px 3px 1px rgba(60, 64, 67, 0.15);\n",
              "      fill: #174EA6;\n",
              "    }\n",
              "\n",
              "    [theme=dark] .colab-df-convert {\n",
              "      background-color: #3B4455;\n",
              "      fill: #D2E3FC;\n",
              "    }\n",
              "\n",
              "    [theme=dark] .colab-df-convert:hover {\n",
              "      background-color: #434B5C;\n",
              "      box-shadow: 0px 1px 3px 1px rgba(0, 0, 0, 0.15);\n",
              "      filter: drop-shadow(0px 1px 2px rgba(0, 0, 0, 0.3));\n",
              "      fill: #FFFFFF;\n",
              "    }\n",
              "  </style>\n",
              "\n",
              "      <script>\n",
              "        const buttonEl =\n",
              "          document.querySelector('#df-41bdb715-eadd-441e-bd6d-f5b5265e7cb3 button.colab-df-convert');\n",
              "        buttonEl.style.display =\n",
              "          google.colab.kernel.accessAllowed ? 'block' : 'none';\n",
              "\n",
              "        async function convertToInteractive(key) {\n",
              "          const element = document.querySelector('#df-41bdb715-eadd-441e-bd6d-f5b5265e7cb3');\n",
              "          const dataTable =\n",
              "            await google.colab.kernel.invokeFunction('convertToInteractive',\n",
              "                                                     [key], {});\n",
              "          if (!dataTable) return;\n",
              "\n",
              "          const docLinkHtml = 'Like what you see? Visit the ' +\n",
              "            '<a target=\"_blank\" href=https://colab.research.google.com/notebooks/data_table.ipynb>data table notebook</a>'\n",
              "            + ' to learn more about interactive tables.';\n",
              "          element.innerHTML = '';\n",
              "          dataTable['output_type'] = 'display_data';\n",
              "          await google.colab.output.renderOutput(dataTable, element);\n",
              "          const docLink = document.createElement('div');\n",
              "          docLink.innerHTML = docLinkHtml;\n",
              "          element.appendChild(docLink);\n",
              "        }\n",
              "      </script>\n",
              "    </div>\n",
              "  </div>\n",
              "  "
            ]
          },
          "metadata": {},
          "execution_count": 57
        }
      ]
    },
    {
      "cell_type": "markdown",
      "source": [
        "## MELAKUKAN ITERASI UNTUK SEMUA URL BERITA ##\n",
        "Pada tahap ini kita akan membuat iterasi untuk melakukan pengumpulan data berita dari semua URL berita yang telah kita crawling sebelumnya. \n"
      ],
      "metadata": {
        "id": "ame1d3W4upMe"
      }
    },
    {
      "cell_type": "code",
      "source": [
        "# Memanggil semua library yang digunakan\n",
        "import requests\n",
        "from bs4 import BeautifulSoup\n",
        "import pandas as pd\n",
        "\n",
        "# Inisiasi isi tabel\n",
        "isi_tabel = []\n",
        "\n",
        "# Membuat iterasi dari setiap URL berita\n",
        "for url in list_url:\n",
        "  print(f'Pengerjaan URL Berita {url}:')\n",
        "\n",
        "  # Melakukan request ke URL berita\n",
        "  r = requests.get(url)\n",
        "\n",
        "  # Mengambil HTML dari halaman website yang telah direquest\n",
        "  html_halaman = r.text\n",
        "\n",
        "  # Memanggil variabel berisi struktur HTML dari halaman CNBC yang telah direquest sebelumnya.\n",
        "  html_bs4 = BeautifulSoup(html_halaman)\n",
        "\n",
        "  # Mengambil informasi judul berita dari HTML\n",
        "  judul = html_bs4.find('h1').text\n",
        "\n",
        "  # Mengambil informasi tanggal berita dari HTML\n",
        "  tanggal = html_bs4.find('div', class_='date').text\n",
        "\n",
        "  # Mengambil informasi penulis berita dari HTML\n",
        "  penulis = html_bs4.find('div', class_='author').text\n",
        "\n",
        "  # Mengambil informasi isi berita dari HTML\n",
        "  isi = html_bs4.find('div', class_='detail_text')\n",
        "\n",
        "  ## Memecah isi berita menjadi per paragraf\n",
        "  list_paragraf = isi.find_all('p')\n",
        "  \n",
        "  ## Mengambil text dari setiap paragraf\n",
        "  list_paragraf_clean = [paragraf.text for paragraf in list_paragraf]\n",
        "\n",
        "  ## Menggabungkan list menjadi satu\n",
        "  isi_clean = ' '.join(list_paragraf_clean)\n",
        "\n",
        "  ## Membersihkan isi berita dari elemen tidak penting\n",
        "  isi_clean = isi_clean.replace('\\r\\n', '')\n",
        "  isi_clean = isi_clean.replace('ADVERTISEMENT SCROLL TO RESUME CONTENT', '')\n",
        "\n",
        "  isi_baris = [url, judul, tanggal, penulis, isi_clean]\n",
        "  isi_tabel.append(isi_baris)\n",
        "\n",
        "print('')\n",
        "\n",
        "# Membuat DataFrame\n",
        "## Menentukan nama kolom\n",
        "nama_kolom = ['url', 'judul', 'tanggal', 'penulis', 'isi']\n",
        "\n",
        "## Inisiasi dataframe\n",
        "df_berita = pd.DataFrame(isi_tabel, columns = nama_kolom)\n",
        "\n",
        "df_berita"
      ],
      "metadata": {
        "colab": {
          "base_uri": "https://localhost:8080/",
          "height": 441
        },
        "id": "H4YzJ4lIt4au",
        "outputId": "8d2427fc-9c60-4756-e3ed-e863bc7cca0e"
      },
      "execution_count": 61,
      "outputs": [
        {
          "output_type": "stream",
          "name": "stdout",
          "text": [
            "Pengerjaan URL Berita https://www.cnbcindonesia.com/news/20220705160145-4-353138/saat-jokowi-dikeluhkan-pedagang-soal-harga-cabai-menggila:\n",
            "Pengerjaan URL Berita https://www.cnbcindonesia.com/news/20220705141830-4-353106/zulhas-bilang-harga-pangan-menggila-petani-untung-beneran:\n",
            "Pengerjaan URL Berita https://www.cnbcindonesia.com/news/20220705132446-4-353088/heboh-petani-ri-jual-sawit-ke-malaysia-ini-biang-keroknya:\n",
            "Pengerjaan URL Berita https://www.cnbcindonesia.com/news/20220705112318-4-353041/jadi-syarat-ekspor-minyak-sawit-besok-zulhas-rilis-minyakita:\n",
            "Pengerjaan URL Berita https://www.cnbcindonesia.com/news/20220705093458-4-353009/begini-klaim-zulhas-soal-harga-minyak-goreng-turun:\n",
            "\n"
          ]
        },
        {
          "output_type": "execute_result",
          "data": {
            "text/plain": [
              "                                                 url  \\\n",
              "0  https://www.cnbcindonesia.com/news/20220705160...   \n",
              "1  https://www.cnbcindonesia.com/news/20220705141...   \n",
              "2  https://www.cnbcindonesia.com/news/20220705132...   \n",
              "3  https://www.cnbcindonesia.com/news/20220705112...   \n",
              "4  https://www.cnbcindonesia.com/news/20220705093...   \n",
              "\n",
              "                                               judul             tanggal  \\\n",
              "0  Saat Jokowi Dikeluhkan Pedagang Soal Harga Cab...  05 July 2022 16:45   \n",
              "1  Zulhas Bilang Harga Pangan Menggila Petani Unt...  05 July 2022 14:40   \n",
              "2  Heboh Petani RI Jual Sawit ke Malaysia, Ini Bi...  05 July 2022 13:55   \n",
              "3  Jadi Syarat Ekspor Minyak Sawit, Besok Zulhas ...  05 July 2022 12:05   \n",
              "4  Begini Klaim Zulhas Soal Harga Minyak Goreng T...  05 July 2022 10:45   \n",
              "\n",
              "                                      penulis  \\\n",
              "0  News - Chandra Gian Asmara, CNBC Indonesia   \n",
              "1   News - Damiana Cut Emeria, CNBC Indonesia   \n",
              "2          News - Ferry Sandi, CNBC Indonesia   \n",
              "3          News - Ferry Sandi, CNBC Indonesia   \n",
              "4          News - Ferry Sandi, CNBC Indonesia   \n",
              "\n",
              "                                                 isi  \n",
              "0  Jakarta, CNBC Indonesia - Presiden Joko Widodo...  \n",
              "1  Jakarta, CNBC Indonesia - Menteri Perdagangan ...  \n",
              "2  Jakarta, CNBC Indonesia - Sebagian kalangan pe...  \n",
              "3  Jakarta, CNBC Indonesia - Menteri Perdagangan ...  \n",
              "4  Jakarta, CNBC Indonesia - Menteri Perdagangan ...  "
            ],
            "text/html": [
              "\n",
              "  <div id=\"df-19451af0-a46c-4408-8193-d144ff8be19f\">\n",
              "    <div class=\"colab-df-container\">\n",
              "      <div>\n",
              "<style scoped>\n",
              "    .dataframe tbody tr th:only-of-type {\n",
              "        vertical-align: middle;\n",
              "    }\n",
              "\n",
              "    .dataframe tbody tr th {\n",
              "        vertical-align: top;\n",
              "    }\n",
              "\n",
              "    .dataframe thead th {\n",
              "        text-align: right;\n",
              "    }\n",
              "</style>\n",
              "<table border=\"1\" class=\"dataframe\">\n",
              "  <thead>\n",
              "    <tr style=\"text-align: right;\">\n",
              "      <th></th>\n",
              "      <th>url</th>\n",
              "      <th>judul</th>\n",
              "      <th>tanggal</th>\n",
              "      <th>penulis</th>\n",
              "      <th>isi</th>\n",
              "    </tr>\n",
              "  </thead>\n",
              "  <tbody>\n",
              "    <tr>\n",
              "      <th>0</th>\n",
              "      <td>https://www.cnbcindonesia.com/news/20220705160...</td>\n",
              "      <td>Saat Jokowi Dikeluhkan Pedagang Soal Harga Cab...</td>\n",
              "      <td>05 July 2022 16:45</td>\n",
              "      <td>News - Chandra Gian Asmara, CNBC Indonesia</td>\n",
              "      <td>Jakarta, CNBC Indonesia - Presiden Joko Widodo...</td>\n",
              "    </tr>\n",
              "    <tr>\n",
              "      <th>1</th>\n",
              "      <td>https://www.cnbcindonesia.com/news/20220705141...</td>\n",
              "      <td>Zulhas Bilang Harga Pangan Menggila Petani Unt...</td>\n",
              "      <td>05 July 2022 14:40</td>\n",
              "      <td>News - Damiana Cut Emeria, CNBC Indonesia</td>\n",
              "      <td>Jakarta, CNBC Indonesia - Menteri Perdagangan ...</td>\n",
              "    </tr>\n",
              "    <tr>\n",
              "      <th>2</th>\n",
              "      <td>https://www.cnbcindonesia.com/news/20220705132...</td>\n",
              "      <td>Heboh Petani RI Jual Sawit ke Malaysia, Ini Bi...</td>\n",
              "      <td>05 July 2022 13:55</td>\n",
              "      <td>News - Ferry Sandi, CNBC Indonesia</td>\n",
              "      <td>Jakarta, CNBC Indonesia - Sebagian kalangan pe...</td>\n",
              "    </tr>\n",
              "    <tr>\n",
              "      <th>3</th>\n",
              "      <td>https://www.cnbcindonesia.com/news/20220705112...</td>\n",
              "      <td>Jadi Syarat Ekspor Minyak Sawit, Besok Zulhas ...</td>\n",
              "      <td>05 July 2022 12:05</td>\n",
              "      <td>News - Ferry Sandi, CNBC Indonesia</td>\n",
              "      <td>Jakarta, CNBC Indonesia - Menteri Perdagangan ...</td>\n",
              "    </tr>\n",
              "    <tr>\n",
              "      <th>4</th>\n",
              "      <td>https://www.cnbcindonesia.com/news/20220705093...</td>\n",
              "      <td>Begini Klaim Zulhas Soal Harga Minyak Goreng T...</td>\n",
              "      <td>05 July 2022 10:45</td>\n",
              "      <td>News - Ferry Sandi, CNBC Indonesia</td>\n",
              "      <td>Jakarta, CNBC Indonesia - Menteri Perdagangan ...</td>\n",
              "    </tr>\n",
              "  </tbody>\n",
              "</table>\n",
              "</div>\n",
              "      <button class=\"colab-df-convert\" onclick=\"convertToInteractive('df-19451af0-a46c-4408-8193-d144ff8be19f')\"\n",
              "              title=\"Convert this dataframe to an interactive table.\"\n",
              "              style=\"display:none;\">\n",
              "        \n",
              "  <svg xmlns=\"http://www.w3.org/2000/svg\" height=\"24px\"viewBox=\"0 0 24 24\"\n",
              "       width=\"24px\">\n",
              "    <path d=\"M0 0h24v24H0V0z\" fill=\"none\"/>\n",
              "    <path d=\"M18.56 5.44l.94 2.06.94-2.06 2.06-.94-2.06-.94-.94-2.06-.94 2.06-2.06.94zm-11 1L8.5 8.5l.94-2.06 2.06-.94-2.06-.94L8.5 2.5l-.94 2.06-2.06.94zm10 10l.94 2.06.94-2.06 2.06-.94-2.06-.94-.94-2.06-.94 2.06-2.06.94z\"/><path d=\"M17.41 7.96l-1.37-1.37c-.4-.4-.92-.59-1.43-.59-.52 0-1.04.2-1.43.59L10.3 9.45l-7.72 7.72c-.78.78-.78 2.05 0 2.83L4 21.41c.39.39.9.59 1.41.59.51 0 1.02-.2 1.41-.59l7.78-7.78 2.81-2.81c.8-.78.8-2.07 0-2.86zM5.41 20L4 18.59l7.72-7.72 1.47 1.35L5.41 20z\"/>\n",
              "  </svg>\n",
              "      </button>\n",
              "      \n",
              "  <style>\n",
              "    .colab-df-container {\n",
              "      display:flex;\n",
              "      flex-wrap:wrap;\n",
              "      gap: 12px;\n",
              "    }\n",
              "\n",
              "    .colab-df-convert {\n",
              "      background-color: #E8F0FE;\n",
              "      border: none;\n",
              "      border-radius: 50%;\n",
              "      cursor: pointer;\n",
              "      display: none;\n",
              "      fill: #1967D2;\n",
              "      height: 32px;\n",
              "      padding: 0 0 0 0;\n",
              "      width: 32px;\n",
              "    }\n",
              "\n",
              "    .colab-df-convert:hover {\n",
              "      background-color: #E2EBFA;\n",
              "      box-shadow: 0px 1px 2px rgba(60, 64, 67, 0.3), 0px 1px 3px 1px rgba(60, 64, 67, 0.15);\n",
              "      fill: #174EA6;\n",
              "    }\n",
              "\n",
              "    [theme=dark] .colab-df-convert {\n",
              "      background-color: #3B4455;\n",
              "      fill: #D2E3FC;\n",
              "    }\n",
              "\n",
              "    [theme=dark] .colab-df-convert:hover {\n",
              "      background-color: #434B5C;\n",
              "      box-shadow: 0px 1px 3px 1px rgba(0, 0, 0, 0.15);\n",
              "      filter: drop-shadow(0px 1px 2px rgba(0, 0, 0, 0.3));\n",
              "      fill: #FFFFFF;\n",
              "    }\n",
              "  </style>\n",
              "\n",
              "      <script>\n",
              "        const buttonEl =\n",
              "          document.querySelector('#df-19451af0-a46c-4408-8193-d144ff8be19f button.colab-df-convert');\n",
              "        buttonEl.style.display =\n",
              "          google.colab.kernel.accessAllowed ? 'block' : 'none';\n",
              "\n",
              "        async function convertToInteractive(key) {\n",
              "          const element = document.querySelector('#df-19451af0-a46c-4408-8193-d144ff8be19f');\n",
              "          const dataTable =\n",
              "            await google.colab.kernel.invokeFunction('convertToInteractive',\n",
              "                                                     [key], {});\n",
              "          if (!dataTable) return;\n",
              "\n",
              "          const docLinkHtml = 'Like what you see? Visit the ' +\n",
              "            '<a target=\"_blank\" href=https://colab.research.google.com/notebooks/data_table.ipynb>data table notebook</a>'\n",
              "            + ' to learn more about interactive tables.';\n",
              "          element.innerHTML = '';\n",
              "          dataTable['output_type'] = 'display_data';\n",
              "          await google.colab.output.renderOutput(dataTable, element);\n",
              "          const docLink = document.createElement('div');\n",
              "          docLink.innerHTML = docLinkHtml;\n",
              "          element.appendChild(docLink);\n",
              "        }\n",
              "      </script>\n",
              "    </div>\n",
              "  </div>\n",
              "  "
            ]
          },
          "metadata": {},
          "execution_count": 61
        }
      ]
    }
  ]
}